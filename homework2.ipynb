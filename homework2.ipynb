{
 "cells": [
  {
   "cell_type": "markdown",
   "metadata": {},
   "source": [
    "# Classification of cats and dogs.\n",
    "\n",
    "Three statistical models including logistic regression, linear regression, and optimal separating hyperplanes were used as neural networks. The prediction accuracy of the validation dataset for the logistic regression binary, logistic regression multinormial, linear regression, and optimal separating hyperplanes are 0.5,  0.52, 0.56, 0.5, respectively. Compared to previous one single hidden layer model, logistic regression multinormial and linear regression model performs a little bit better. \n",
    "\n"
   ]
  },
  {
   "cell_type": "code",
   "execution_count": null,
   "metadata": {},
   "outputs": [],
   "source": [
    "from __future__ import absolute_import, division, print_function, unicode_literals\n",
    "import tensorflow as tf\n",
    "from tensorflow.keras.models import Sequential\n",
    "from tensorflow.keras.layers import Dense, Conv2D, Flatten, Dropout, MaxPooling2D\n",
    "from tensorflow.keras.preprocessing.image import ImageDataGenerator\n",
    "import tensorflow.keras as keras\n",
    "import os\n",
    "import numpy as np\n",
    "import matplotlib.pyplot as plt\n",
    "import PIL as PIL\n",
    "\n",
    "#_URL = 'https://storage.googleapis.com/mledu-datasets/cats_and_dogs_filtered.zip'\n",
    "\n",
    "#path_to_zip = tf.keras.utils.get_file('/Users/jiaxingchen/CoursesWorkshops/PSU/2020Spring/deep_learning/homework2/cats_and_dogs.zip', origin=_URL, extract=True)\n",
    "\n",
    "#PATH = os.path.join(os.path.dirname(path_to_zip), 'cats_and_dogs_filtered')\n",
    "\n",
    "PATH = '/Users/jiaxingchen/CoursesWorkshops/PSU/2020Spring/deep_learning/homework2/cats_and_dogs_filtered'\n"
   ]
  },
  {
   "cell_type": "code",
   "execution_count": 3,
   "metadata": {},
   "outputs": [],
   "source": [
    "##setting the dir of the datasets; \n",
    "train_dir = os.path.join(PATH, 'train')\n",
    "validation_dir = os.path.join(PATH, 'validation')\n",
    "\n",
    "train_cats_dir = os.path.join(train_dir, 'cats')  # directory with our training cat pictures\n",
    "train_dogs_dir = os.path.join(train_dir, 'dogs')  # directory with our training dog pictures\n",
    "validation_cats_dir = os.path.join(validation_dir, 'cats')  # directory with our validation cat pictures\n",
    "validation_dogs_dir = os.path.join(validation_dir, 'dogs')  # directory with our validation dog pictures\n"
   ]
  },
  {
   "cell_type": "code",
   "execution_count": 4,
   "metadata": {},
   "outputs": [
    {
     "name": "stdout",
     "output_type": "stream",
     "text": [
      "Found 2000 images belonging to 2 classes.\n",
      "Found 1000 images belonging to 2 classes.\n"
     ]
    }
   ],
   "source": [
    "#load images using ImageDataGenerator; \n",
    "batch_size = 1000\n",
    "epochs = 15\n",
    "IMG_HEIGHT = 150\n",
    "IMG_WIDTH = 150\n",
    "train_image_generator = ImageDataGenerator(rescale=1./255) # Generator for our training data\n",
    "validation_image_generator = ImageDataGenerator(rescale=1./255) # Generator for our validation data\n",
    "\n",
    "train_data_gen = train_image_generator.flow_from_directory(batch_size=batch_size,\n",
    "                                                           directory=train_dir,\n",
    "                                                           shuffle=True,\n",
    "                                                           target_size=(IMG_HEIGHT, IMG_WIDTH),\n",
    "                                                           class_mode='binary')\n",
    "validation_data_gen = validation_image_generator.flow_from_directory(batch_size=batch_size,\n",
    "                                                           directory=validation_dir,\n",
    "                                                           target_size=(IMG_HEIGHT, IMG_WIDTH),\n",
    "                                                           class_mode='binary')\n"
   ]
  },
  {
   "cell_type": "code",
   "execution_count": 6,
   "metadata": {},
   "outputs": [
    {
     "name": "stdout",
     "output_type": "stream",
     "text": [
      "(1000, 67500)\n",
      "(1000, 2)\n"
     ]
    }
   ],
   "source": [
    "## how did a simple model do here: \n",
    "import tensorflow.keras as keras\n",
    "from keras import models\n",
    "from keras import layers\n",
    "\n",
    "sample_training_images, sample_training_labels = next(train_data_gen)\n",
    "sample_validation_images, sample_validation_labels = next(validation_data_gen)\n",
    "sample_training_images = sample_training_images.reshape((1000, 150 * 150 *3))\n",
    "sample_training_images = sample_training_images.astype('float32') / 255\n",
    "sample_validation_images = sample_validation_images.reshape((1000, 150 * 150 *3))\n",
    "sample_validation_images = sample_validation_images.astype('float32') / 255\n",
    "from keras.utils import to_categorical\n",
    "sample_training_labels = to_categorical(sample_training_labels)\n",
    "sample_validation_labels = to_categorical(sample_validation_labels)\n",
    "print(sample_training_images.shape)\n",
    "print(sample_training_labels.shape)\n"
   ]
  },
  {
   "cell_type": "code",
   "execution_count": 13,
   "metadata": {},
   "outputs": [
    {
     "name": "stdout",
     "output_type": "stream",
     "text": [
      "Epoch 1/10\n",
      "1000/1000 [==============================] - 4s 4ms/step - loss: 0.5135 - accuracy: 0.5000\n",
      "Epoch 2/10\n",
      "1000/1000 [==============================] - 4s 4ms/step - loss: 0.5032 - accuracy: 0.5000\n",
      "Epoch 3/10\n",
      "1000/1000 [==============================] - 4s 4ms/step - loss: 0.5032 - accuracy: 0.5000\n",
      "Epoch 4/10\n",
      "1000/1000 [==============================] - 4s 4ms/step - loss: 0.5032 - accuracy: 0.5000\n",
      "Epoch 5/10\n",
      "1000/1000 [==============================] - 4s 4ms/step - loss: 0.5032 - accuracy: 0.5000\n",
      "Epoch 6/10\n",
      "1000/1000 [==============================] - 4s 4ms/step - loss: 0.5032 - accuracy: 0.5000\n",
      "Epoch 7/10\n",
      "1000/1000 [==============================] - 4s 4ms/step - loss: 0.5032 - accuracy: 0.5000\n",
      "Epoch 8/10\n",
      "1000/1000 [==============================] - 4s 4ms/step - loss: 0.5032 - accuracy: 0.5000\n",
      "Epoch 9/10\n",
      "1000/1000 [==============================] - 4s 4ms/step - loss: 0.5032 - accuracy: 0.5000\n",
      "Epoch 10/10\n",
      "1000/1000 [==============================] - 4s 4ms/step - loss: 0.5032 - accuracy: 0.5000\n",
      "1000/1000 [==============================] - 1s 1ms/step\n",
      "0.5\n"
     ]
    }
   ],
   "source": [
    "# logistic regression (binary)  \n",
    "import keras.backend as K\n",
    "def loss_logit(y_actual,y_predicted):\n",
    "    loss = K.log(1+K.exp(-(y_actual*y_predicted)))\n",
    "    return(loss)\n",
    "\n",
    "#fit the mdoel \n",
    "network = models.Sequential()\n",
    "network.add(layers.Dense(512, input_shape=(150*150*3,)))\n",
    "network.add(layers.Dense(1, activation='sigmoid'))\n",
    "network.compile(optimizer='rmsprop',loss=loss_logit,metrics=['accuracy'])\n",
    "network.fit(sample_training_images, sample_training_labels, epochs=10, batch_size=128)\n",
    "\n",
    "test_loss, test_acc = network.evaluate(sample_validation_images, sample_validation_labels)\n",
    "print(test_acc)\n"
   ]
  },
  {
   "cell_type": "code",
   "execution_count": 27,
   "metadata": {},
   "outputs": [
    {
     "name": "stdout",
     "output_type": "stream",
     "text": [
      "Epoch 1/10\n",
      "1000/1000 [==============================] - 5s 5ms/step - loss: 0.8540 - accuracy: 0.4870\n",
      "Epoch 2/10\n",
      "1000/1000 [==============================] - 4s 4ms/step - loss: 0.6931 - accuracy: 0.5320\n",
      "Epoch 3/10\n",
      "1000/1000 [==============================] - 4s 4ms/step - loss: 0.6930 - accuracy: 0.5700\n",
      "Epoch 4/10\n",
      "1000/1000 [==============================] - 4s 4ms/step - loss: 0.6928 - accuracy: 0.5210\n",
      "Epoch 5/10\n",
      "1000/1000 [==============================] - 4s 4ms/step - loss: 0.6924 - accuracy: 0.5180\n",
      "Epoch 6/10\n",
      "1000/1000 [==============================] - 4s 4ms/step - loss: 0.6910 - accuracy: 0.5180\n",
      "Epoch 7/10\n",
      "1000/1000 [==============================] - 4s 4ms/step - loss: 0.7256 - accuracy: 0.5490\n",
      "Epoch 8/10\n",
      "1000/1000 [==============================] - 4s 4ms/step - loss: 0.6930 - accuracy: 0.5510\n",
      "Epoch 9/10\n",
      "1000/1000 [==============================] - 4s 4ms/step - loss: 0.6930 - accuracy: 0.5770\n",
      "Epoch 10/10\n",
      "1000/1000 [==============================] - 4s 4ms/step - loss: 0.6929 - accuracy: 0.5730\n",
      "1000/1000 [==============================] - 1s 1ms/step\n",
      "0.5210000276565552\n"
     ]
    }
   ],
   "source": [
    "# logistic regression (multinormial) \n",
    "#fit the mdoel \n",
    "network = models.Sequential()\n",
    "network.add(layers.Dense(512, activation='linear', input_shape=(150*150*3,)))\n",
    "network.add(layers.Dense(2, activation='sigmoid'))\n",
    "network.compile(optimizer='rmsprop',loss='categorical_crossentropy',metrics=['accuracy'])\n",
    "network.fit(sample_training_images, sample_training_labels, epochs=10, batch_size=128)\n",
    "\n",
    "test_loss, test_acc = network.evaluate(sample_validation_images, sample_validation_labels)\n",
    "print(test_acc)\n",
    "\n"
   ]
  },
  {
   "cell_type": "code",
   "execution_count": 22,
   "metadata": {},
   "outputs": [
    {
     "name": "stdout",
     "output_type": "stream",
     "text": [
      "Epoch 1/10\n",
      "1000/1000 [==============================] - 0s 354us/step - loss: 0.2940 - accuracy: 0.5010\n",
      "Epoch 2/10\n",
      "1000/1000 [==============================] - 0s 199us/step - loss: 0.2621 - accuracy: 0.5300\n",
      "Epoch 3/10\n",
      "1000/1000 [==============================] - 0s 195us/step - loss: 0.2658 - accuracy: 0.4950\n",
      "Epoch 4/10\n",
      "1000/1000 [==============================] - 0s 204us/step - loss: 0.2590 - accuracy: 0.5250\n",
      "Epoch 5/10\n",
      "1000/1000 [==============================] - 0s 201us/step - loss: 0.2575 - accuracy: 0.5570\n",
      "Epoch 6/10\n",
      "1000/1000 [==============================] - 0s 211us/step - loss: 0.2555 - accuracy: 0.5570\n",
      "Epoch 7/10\n",
      "1000/1000 [==============================] - 0s 206us/step - loss: 0.2519 - accuracy: 0.6060\n",
      "Epoch 8/10\n",
      "1000/1000 [==============================] - 0s 196us/step - loss: 0.2533 - accuracy: 0.5740\n",
      "Epoch 9/10\n",
      "1000/1000 [==============================] - 0s 193us/step - loss: 0.2576 - accuracy: 0.5230\n",
      "Epoch 10/10\n",
      "1000/1000 [==============================] - 0s 192us/step - loss: 0.2517 - accuracy: 0.5640\n",
      "1000/1000 [==============================] - 0s 197us/step\n",
      "0.5649999976158142\n"
     ]
    }
   ],
   "source": [
    "# linear regression \n",
    "network = models.Sequential()\n",
    "network.add(layers.Dense(2, activation='linear'))\n",
    "network.compile(optimizer='rmsprop',loss='mean_squared_error',metrics=['accuracy'])\n",
    "network.fit(sample_training_images, sample_training_labels, epochs=10, batch_size=128)\n",
    "\n",
    "test_loss, test_acc = network.evaluate(sample_validation_images, sample_validation_labels)\n",
    "print(test_acc)\n",
    "\n"
   ]
  },
  {
   "cell_type": "code",
   "execution_count": 26,
   "metadata": {},
   "outputs": [
    {
     "name": "stdout",
     "output_type": "stream",
     "text": [
      "Epoch 1/10\n",
      "1000/1000 [==============================] - 0s 417us/step - loss: 0.9999 - accuracy: 0.5060\n",
      "Epoch 2/10\n",
      "1000/1000 [==============================] - 0s 206us/step - loss: 0.9990 - accuracy: 0.5180\n",
      "Epoch 3/10\n",
      "1000/1000 [==============================] - 0s 178us/step - loss: 0.9979 - accuracy: 0.5180\n",
      "Epoch 4/10\n",
      "1000/1000 [==============================] - 0s 183us/step - loss: 0.9967 - accuracy: 0.5180\n",
      "Epoch 5/10\n",
      "1000/1000 [==============================] - 0s 196us/step - loss: 0.9959 - accuracy: 0.5180\n",
      "Epoch 6/10\n",
      "1000/1000 [==============================] - 0s 188us/step - loss: 0.9945 - accuracy: 0.5180\n",
      "Epoch 7/10\n",
      "1000/1000 [==============================] - 0s 201us/step - loss: 0.9936 - accuracy: 0.5180\n",
      "Epoch 8/10\n",
      "1000/1000 [==============================] - 0s 217us/step - loss: 0.9925 - accuracy: 0.5180\n",
      "Epoch 9/10\n",
      "1000/1000 [==============================] - 0s 201us/step - loss: 0.9911 - accuracy: 0.5180\n",
      "Epoch 10/10\n",
      "1000/1000 [==============================] - 0s 198us/step - loss: 0.9902 - accuracy: 0.5180\n",
      "1000/1000 [==============================] - 0s 214us/step\n",
      "0.5\n"
     ]
    }
   ],
   "source": [
    "# optimal separating hyperplanes\n",
    "network = models.Sequential()\n",
    "network.add(layers.Dense(2, activation='linear'))\n",
    "network.compile(optimizer='adadelta',loss='hinge',metrics=['accuracy'])\n",
    "network.fit(sample_training_images, sample_training_labels, epochs=10, batch_size=128)\n",
    "\n",
    "test_loss, test_acc = network.evaluate(sample_validation_images, sample_validation_labels)\n",
    "print(test_acc)\n"
   ]
  },
  {
   "cell_type": "code",
   "execution_count": null,
   "metadata": {},
   "outputs": [],
   "source": []
  }
 ],
 "metadata": {
  "kernelspec": {
   "display_name": "Python 3",
   "language": "python",
   "name": "python3"
  },
  "language_info": {
   "codemirror_mode": {
    "name": "ipython",
    "version": 3
   },
   "file_extension": ".py",
   "mimetype": "text/x-python",
   "name": "python",
   "nbconvert_exporter": "python",
   "pygments_lexer": "ipython3",
   "version": "3.6.7"
  }
 },
 "nbformat": 4,
 "nbformat_minor": 4
}
